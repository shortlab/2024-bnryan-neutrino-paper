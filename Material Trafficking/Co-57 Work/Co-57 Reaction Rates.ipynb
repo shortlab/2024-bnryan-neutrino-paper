{
 "cells": [
  {
   "cell_type": "code",
   "execution_count": 1,
   "id": "a3117166",
   "metadata": {},
   "outputs": [],
   "source": [
    "# Imports\n",
    "import csv\n",
    "import matplotlib.pyplot as plt\n",
    "import numpy as np\n",
    "import math"
   ]
  },
  {
   "cell_type": "code",
   "execution_count": 2,
   "id": "7918a849",
   "metadata": {},
   "outputs": [],
   "source": [
    "# File Names\n",
    "al_file = '/Users/briannaryan/Desktop/CEvNS/Detector Material Comparison/aluminum_xs.csv'\n",
    "zn_file = '/Users/briannaryan/Desktop/CEvNS/Detector Material Comparison/zinc_xs.csv'\n",
    "sn_file = '/Users/briannaryan/Desktop/CEvNS/Detector Material Comparison/tin_xs.csv'"
   ]
  },
  {
   "cell_type": "code",
   "execution_count": 7,
   "id": "06ff03e8",
   "metadata": {},
   "outputs": [],
   "source": [
    "# EC info\n",
    "ec_1 = 0.002\n",
    "ec_2 = 0.998"
   ]
  },
  {
   "cell_type": "code",
   "execution_count": 18,
   "id": "df7ad6a3",
   "metadata": {},
   "outputs": [
    {
     "name": "stdout",
     "output_type": "stream",
     "text": [
      "129000.0\n",
      "700000.0\n",
      "7.10224723675726e-43\n"
     ]
    }
   ],
   "source": [
    "# Read al XS csv file\n",
    "al_e = []\n",
    "al_xs = []\n",
    "\n",
    "with open(al_file) as file:\n",
    "    reader = csv.reader(file)\n",
    "    next(reader)\n",
    "    for row in reader :\n",
    "        al_e.append(float(row[0]))\n",
    "        al_xs.append(float(row[1]))\n",
    "\n",
    "print(al_e[126])\n",
    "al_xs_1 = al_xs[126]\n",
    "print(al_e[697])\n",
    "al_xs_2 = al_xs[697]\n",
    "al_xs_final = al_xs_1 * ec_1 + al_xs_2 * ec_2\n",
    "print(al_xs_final)"
   ]
  },
  {
   "cell_type": "code",
   "execution_count": 19,
   "id": "cfbcd598",
   "metadata": {},
   "outputs": [
    {
     "name": "stdout",
     "output_type": "stream",
     "text": [
      "4.664174471994228e-12\n"
     ]
    }
   ],
   "source": [
    "source_flux = 3.7*10**10\n",
    "N_A = 6.0221408*10**(23)  #atoms/mole\n",
    "det_mass = 1000 #g\n",
    "P=1\n",
    "A = 27\n",
    "distance = 1\n",
    "\n",
    "al_R = source_flux*al_xs_final*10**(-4)*N_A*det_mass*P/(A*4*math.pi*distance**2)\n",
    "print(al_R)"
   ]
  },
  {
   "cell_type": "code",
   "execution_count": 20,
   "id": "c4f42ca9",
   "metadata": {},
   "outputs": [
    {
     "name": "stdout",
     "output_type": "stream",
     "text": [
      "129000.0\n",
      "700000.0\n",
      "4.631216907725888e-42\n"
     ]
    }
   ],
   "source": [
    "# Read zn XS csv file\n",
    "zn_e = []\n",
    "zn_xs = []\n",
    "\n",
    "with open(zn_file) as file:\n",
    "    reader = csv.reader(file)\n",
    "    next(reader)\n",
    "    for row in reader :\n",
    "        zn_e.append(float(row[0]))\n",
    "        zn_xs.append(float(row[1]))\n",
    "\n",
    "print(zn_e[126])\n",
    "zn_xs_1 = zn_xs[126]\n",
    "print(zn_e[697])\n",
    "zn_xs_2 = zn_xs[697]\n",
    "zn_xs_final = zn_xs_1 * ec_1 + zn_xs_2 * ec_2\n",
    "print(zn_xs_final)"
   ]
  },
  {
   "cell_type": "code",
   "execution_count": 21,
   "id": "6e755fba",
   "metadata": {},
   "outputs": [
    {
     "name": "stdout",
     "output_type": "stream",
     "text": [
      "1.2543021884928478e-11\n"
     ]
    }
   ],
   "source": [
    "A = 64*0.486 + 66*0.279 + 67*0.041 + 68*0.188 + 70*0.006\n",
    "\n",
    "zn_R = source_flux*zn_xs_final*10**(-4)*N_A*det_mass*P/(A*4*math.pi*distance**2)\n",
    "print(zn_R)"
   ]
  },
  {
   "cell_type": "code",
   "execution_count": 22,
   "id": "4d66386f",
   "metadata": {},
   "outputs": [
    {
     "name": "stdout",
     "output_type": "stream",
     "text": [
      "129000.0\n",
      "700000.0\n",
      "1.4204104538746442e-41\n"
     ]
    }
   ],
   "source": [
    "# Read sn XS csv file\n",
    "sn_e = []\n",
    "sn_xs = []\n",
    "\n",
    "with open(sn_file) as file:\n",
    "    reader = csv.reader(file)\n",
    "    next(reader)\n",
    "    for row in reader :\n",
    "        sn_e.append(float(row[0]))\n",
    "        sn_xs.append(float(row[1]))\n",
    "\n",
    "print(sn_e[121])\n",
    "sn_xs_1 = sn_xs[121]\n",
    "print(sn_e[692])\n",
    "sn_xs_2 = sn_xs[692]\n",
    "sn_xs_final = sn_xs_1 * ec_1 + sn_xs_2 * ec_2\n",
    "print(sn_xs_final)"
   ]
  },
  {
   "cell_type": "code",
   "execution_count": 23,
   "id": "72b81846",
   "metadata": {},
   "outputs": [
    {
     "name": "stdout",
     "output_type": "stream",
     "text": [
      "2.1200853510923666e-11\n"
     ]
    }
   ],
   "source": [
    "A = 112*0.0097+114*0.0065+115*0.0034+116*0.1454+117*0.0768+118*0.2422+119*0.0858+120*0.3259+122*0.0463+124*0.0579\n",
    "\n",
    "sn_R = source_flux*sn_xs_final*10**(-4)*N_A*det_mass*P/(A*4*math.pi*distance**2)\n",
    "print(sn_R)"
   ]
  },
  {
   "cell_type": "code",
   "execution_count": null,
   "id": "cb51cf2a",
   "metadata": {},
   "outputs": [],
   "source": []
  }
 ],
 "metadata": {
  "kernelspec": {
   "display_name": "CEvNS",
   "language": "python",
   "name": "cevns"
  },
  "language_info": {
   "codemirror_mode": {
    "name": "ipython",
    "version": 3
   },
   "file_extension": ".py",
   "mimetype": "text/x-python",
   "name": "python",
   "nbconvert_exporter": "python",
   "pygments_lexer": "ipython3",
   "version": "3.10.9"
  }
 },
 "nbformat": 4,
 "nbformat_minor": 5
}
