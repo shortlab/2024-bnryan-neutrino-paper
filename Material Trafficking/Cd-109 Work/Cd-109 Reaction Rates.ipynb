{
 "cells": [
  {
   "cell_type": "code",
   "execution_count": 12,
   "id": "a3117166",
   "metadata": {},
   "outputs": [],
   "source": [
    "# Imports\n",
    "import csv\n",
    "import matplotlib.pyplot as plt\n",
    "import numpy as np\n",
    "import math"
   ]
  },
  {
   "cell_type": "code",
   "execution_count": 13,
   "id": "7918a849",
   "metadata": {},
   "outputs": [],
   "source": [
    "# File Names\n",
    "al_file = '/Users/briannaryan/Desktop/CEvNS/Detector Material Comparison/aluminum_xs.csv'\n",
    "zn_file = '/Users/briannaryan/Desktop/CEvNS/Detector Material Comparison/zinc_xs.csv'\n",
    "sn_file = '/Users/briannaryan/Desktop/CEvNS/Detector Material Comparison/tin_xs.csv'"
   ]
  },
  {
   "cell_type": "code",
   "execution_count": 14,
   "id": "7c55fc1d",
   "metadata": {},
   "outputs": [],
   "source": [
    "energy = 128  #Neutrino energy from EC"
   ]
  },
  {
   "cell_type": "code",
   "execution_count": 15,
   "id": "df7ad6a3",
   "metadata": {},
   "outputs": [
    {
     "name": "stdout",
     "output_type": "stream",
     "text": [
      "128000.0\n",
      "2.3781631863761974e-44\n"
     ]
    }
   ],
   "source": [
    "# Read al XS csv file\n",
    "al_e = []\n",
    "al_xs = []\n",
    "\n",
    "with open(al_file) as file:\n",
    "    reader = csv.reader(file)\n",
    "    next(reader)\n",
    "    for row in reader :\n",
    "        al_e.append(float(row[0]))\n",
    "        al_xs.append(float(row[1]))\n",
    "\n",
    "print(al_e[energy-3])\n",
    "al_xs_final = al_xs[energy-3]\n",
    "print(al_xs_final)"
   ]
  },
  {
   "cell_type": "code",
   "execution_count": 16,
   "id": "cfbcd598",
   "metadata": {},
   "outputs": [
    {
     "name": "stdout",
     "output_type": "stream",
     "text": [
      "1.5617828631373818e-13\n"
     ]
    }
   ],
   "source": [
    "source_flux = 3.7*10**10  # Bq (aka 1 Ci)\n",
    "N_A = 6.0221408*10**(23)  #atoms/mole\n",
    "det_mass = 1000 #g\n",
    "P=1\n",
    "A = 27\n",
    "distance = 1\n",
    "\n",
    "al_R = source_flux*al_xs_final*10**(-4)*N_A*det_mass*P/(A*4*math.pi*distance**2)\n",
    "print(al_R)"
   ]
  },
  {
   "cell_type": "code",
   "execution_count": 17,
   "id": "c4f42ca9",
   "metadata": {},
   "outputs": [
    {
     "name": "stdout",
     "output_type": "stream",
     "text": [
      "128000.0\n",
      "1.550177379696371e-43\n"
     ]
    }
   ],
   "source": [
    "# Read zn XS csv file\n",
    "zn_e = []\n",
    "zn_xs = []\n",
    "\n",
    "with open(zn_file) as file:\n",
    "    reader = csv.reader(file)\n",
    "    next(reader)\n",
    "    for row in reader :\n",
    "        zn_e.append(float(row[0]))\n",
    "        zn_xs.append(float(row[1]))\n",
    "\n",
    "print(zn_e[energy-3])\n",
    "zn_xs_final = zn_xs[energy-3]\n",
    "print(zn_xs_final)"
   ]
  },
  {
   "cell_type": "code",
   "execution_count": 18,
   "id": "6e755fba",
   "metadata": {},
   "outputs": [
    {
     "name": "stdout",
     "output_type": "stream",
     "text": [
      "4.1984448550910993e-13\n"
     ]
    }
   ],
   "source": [
    "A = 64*0.486 + 66*0.279 + 67*0.041 + 68*0.188 + 70*0.006\n",
    "\n",
    "zn_R = source_flux*zn_xs_final*10**(-4)*N_A*det_mass*P/(A*4*math.pi*distance**2)\n",
    "print(zn_R)"
   ]
  },
  {
   "cell_type": "code",
   "execution_count": 19,
   "id": "4d66386f",
   "metadata": {},
   "outputs": [
    {
     "name": "stdout",
     "output_type": "stream",
     "text": [
      "128000.0\n",
      "4.72579213051179e-43\n"
     ]
    }
   ],
   "source": [
    "# Read sn XS csv file\n",
    "sn_e = []\n",
    "sn_xs = []\n",
    "\n",
    "with open(sn_file) as file:\n",
    "    reader = csv.reader(file)\n",
    "    next(reader)\n",
    "    for row in reader :\n",
    "        sn_e.append(float(row[0]))\n",
    "        sn_xs.append(float(row[1]))\n",
    "\n",
    "print(sn_e[energy-8])\n",
    "sn_xs_final = sn_xs[energy-8]\n",
    "print(sn_xs_final)"
   ]
  },
  {
   "cell_type": "code",
   "execution_count": 20,
   "id": "72b81846",
   "metadata": {},
   "outputs": [
    {
     "name": "stdout",
     "output_type": "stream",
     "text": [
      "7.053653147141544e-13\n"
     ]
    }
   ],
   "source": [
    "A = 112*0.0097+114*0.0065+115*0.0034+116*0.1454+117*0.0768+118*0.2422+119*0.0858+120*0.3259+122*0.0463+124*0.0579\n",
    "\n",
    "sn_R = source_flux*sn_xs_final*10**(-4)*N_A*det_mass*P/(A*4*math.pi*distance**2)\n",
    "print(sn_R)"
   ]
  },
  {
   "cell_type": "code",
   "execution_count": null,
   "id": "cb51cf2a",
   "metadata": {},
   "outputs": [],
   "source": []
  }
 ],
 "metadata": {
  "kernelspec": {
   "display_name": "CEvNS",
   "language": "python",
   "name": "cevns"
  },
  "language_info": {
   "codemirror_mode": {
    "name": "ipython",
    "version": 3
   },
   "file_extension": ".py",
   "mimetype": "text/x-python",
   "name": "python",
   "nbconvert_exporter": "python",
   "pygments_lexer": "ipython3",
   "version": "3.10.9"
  }
 },
 "nbformat": 4,
 "nbformat_minor": 5
}
